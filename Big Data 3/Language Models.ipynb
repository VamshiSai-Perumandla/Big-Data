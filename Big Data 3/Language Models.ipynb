{
 "cells": [
  {
   "cell_type": "code",
   "execution_count": 1,
   "id": "ff2cca9b-e802-4ed2-8b24-e2b2c6cc96f8",
   "metadata": {
    "tags": []
   },
   "outputs": [
    {
     "name": "stderr",
     "output_type": "stream",
     "text": [
      "Setting default log level to \"WARN\".\n",
      "To adjust logging level use sc.setLogLevel(newLevel). For SparkR, use setLogLevel(newLevel).\n"
     ]
    },
    {
     "name": "stdout",
     "output_type": "stream",
     "text": [
      "22/10/24 21:52:36 WARN NativeCodeLoader: Unable to load native-hadoop library for your platform... using builtin-java classes where applicable\n"
     ]
    },
    {
     "name": "stderr",
     "output_type": "stream",
     "text": [
      "/opt/conda/envs/bigdata-fall22/lib/python3.7/site-packages/pyspark/sql/context.py:159: FutureWarning: Deprecated in 3.0.0. Use SparkSession.builder.getOrCreate() instead.\n",
      "  FutureWarning,\n"
     ]
    }
   ],
   "source": [
    "import os\n",
    "import pyspark\n",
    "conf = pyspark.SparkConf()\n",
    "\n",
    "conf.set('spark.ui.proxyBase', '/user/' + os.environ['JUPYTERHUB_USER'] + '/proxy/4041')\n",
    "conf.set('spark.sql.repl.eagerEval.enabled', True)\n",
    "conf.set('spark.driver.memory','4g')\n",
    "sc = pyspark.SparkContext(conf=conf)\n",
    "\n",
    "spark = pyspark.SQLContext.getOrCreate(sc)"
   ]
  },
  {
   "cell_type": "code",
   "execution_count": 2,
   "id": "2b6d92f7-a7e2-4277-9b4c-4f048259054b",
   "metadata": {},
   "outputs": [],
   "source": [
    "import warnings\n",
    "warnings.filterwarnings('ignore')"
   ]
  },
  {
   "cell_type": "markdown",
   "id": "e6a8c337-3c1f-4280-ad98-d48ebcf727a2",
   "metadata": {},
   "source": [
    "**Question 2. Spark – Language Models**"
   ]
  },
  {
   "cell_type": "code",
   "execution_count": 3,
   "id": "eb6e4005-f679-4555-aefc-9263fc703c2d",
   "metadata": {},
   "outputs": [],
   "source": [
    "romeo_juliet = spark.read\\\n",
    ".text(\"shared/hw2/romeo-juliet-pg1777.txt\")"
   ]
  },
  {
   "cell_type": "code",
   "execution_count": 4,
   "id": "311a1a41-9484-493b-9635-f5bdd1fb2143",
   "metadata": {},
   "outputs": [
    {
     "name": "stderr",
     "output_type": "stream",
     "text": [
      "[Stage 0:>                                                          (0 + 1) / 1]\r"
     ]
    },
    {
     "name": "stdout",
     "output_type": "stream",
     "text": [
      "+--------------------+\n",
      "|               value|\n",
      "+--------------------+\n",
      "|                    |\n",
      "|This Etext file i...|\n",
      "|cooperation with ...|\n",
      "|Future and Shakes...|\n",
      "|Etexts that are N...|\n",
      "|                    |\n",
      "|*This Etext has c...|\n",
      "|                    |\n",
      "|<<THIS ELECTRONIC...|\n",
      "|SHAKESPEARE IS CO...|\n",
      "|PROVIDED BY PROJE...|\n",
      "|MACHINE READABLE ...|\n",
      "|(1) ARE FOR YOUR ...|\n",
      "|DISTRIBUTED OR US...|\n",
      "|DISTRIBUTION INCL...|\n",
      "|TIME OR FOR MEMBE...|\n",
      "|                    |\n",
      "|*Project Gutenber...|\n",
      "|in the presentati...|\n",
      "|for your reading ...|\n",
      "+--------------------+\n",
      "only showing top 20 rows\n",
      "\n"
     ]
    },
    {
     "name": "stderr",
     "output_type": "stream",
     "text": [
      "                                                                                \r"
     ]
    }
   ],
   "source": [
    "romeo_juliet.show()"
   ]
  },
  {
   "cell_type": "code",
   "execution_count": 5,
   "id": "209785ae-e5f1-4c42-9ddb-ba5845361271",
   "metadata": {
    "tags": []
   },
   "outputs": [],
   "source": [
    "from pyspark.sql.functions import *\n",
    "romeo_juliet = romeo_juliet.select(trim(lower(regexp_replace(col('value'),'[^\\sa-zA-Z0-9]',''))).alias('new_line'))"
   ]
  },
  {
   "cell_type": "code",
   "execution_count": 6,
   "id": "1e2020e4-461d-450f-bac6-81949b1c868f",
   "metadata": {},
   "outputs": [],
   "source": [
    "from pyspark.sql import functions as F"
   ]
  },
  {
   "cell_type": "code",
   "execution_count": 7,
   "id": "a98cd624-0b9b-4e37-9568-8e9bce8073f9",
   "metadata": {},
   "outputs": [],
   "source": [
    "romeo_juliet_unigrams = romeo_juliet.withColumn('words',F.explode(F.split(col('new_line'),' '))).groupBy('words').count().sort('count',ascending=False)"
   ]
  },
  {
   "cell_type": "code",
   "execution_count": 8,
   "id": "50850372-eb47-4b0f-9d66-80c65d24d447",
   "metadata": {},
   "outputs": [],
   "source": [
    "unigrams = romeo_juliet_unigrams.where(col('words')!='')"
   ]
  },
  {
   "cell_type": "markdown",
   "id": "8cbea10e-4b27-47ce-bee6-ec19907a2ae7",
   "metadata": {},
   "source": [
    "***Unigrams***"
   ]
  },
  {
   "cell_type": "code",
   "execution_count": 9,
   "id": "a1f8a553-9112-4edc-b365-225ff617476c",
   "metadata": {},
   "outputs": [
    {
     "name": "stderr",
     "output_type": "stream",
     "text": [
      "[Stage 1:>                                                          (0 + 1) / 1]\r"
     ]
    },
    {
     "name": "stdout",
     "output_type": "stream",
     "text": [
      "+-----+-----+\n",
      "|words|count|\n",
      "+-----+-----+\n",
      "|  and|  773|\n",
      "|  the|  748|\n",
      "|    i|  585|\n",
      "|   to|  580|\n",
      "|    a|  483|\n",
      "|   of|  474|\n",
      "|   is|  383|\n",
      "| that|  365|\n",
      "|   my|  360|\n",
      "|   in|  328|\n",
      "|  you|  323|\n",
      "| thou|  277|\n",
      "|  not|  275|\n",
      "| with|  268|\n",
      "|  for|  267|\n",
      "|   me|  265|\n",
      "| this|  258|\n",
      "|   it|  237|\n",
      "|   be|  234|\n",
      "|  but|  186|\n",
      "+-----+-----+\n",
      "only showing top 20 rows\n",
      "\n"
     ]
    },
    {
     "name": "stderr",
     "output_type": "stream",
     "text": [
      "                                                                                \r"
     ]
    }
   ],
   "source": [
    "unigrams.show()"
   ]
  },
  {
   "cell_type": "code",
   "execution_count": 10,
   "id": "fcc24638-e983-4e47-b750-38b02cd23942",
   "metadata": {},
   "outputs": [],
   "source": [
    "romeo_juliet_bigrams = romeo_juliet.withColumn(\"value\",split(col(\"new_line\"),\" \"))"
   ]
  },
  {
   "cell_type": "code",
   "execution_count": 11,
   "id": "4985a2db-0b73-4c07-b5eb-d5be277d917c",
   "metadata": {},
   "outputs": [
    {
     "name": "stdout",
     "output_type": "stream",
     "text": [
      "+--------------------+--------------------+\n",
      "|            new_line|               value|\n",
      "+--------------------+--------------------+\n",
      "|                    |                  []|\n",
      "|this etext file i...|[this, etext, fil...|\n",
      "|cooperation with ...|[cooperation, wit...|\n",
      "|future and shakes...|[future, and, sha...|\n",
      "|etexts that are n...|[etexts, that, ar...|\n",
      "|                    |                  []|\n",
      "|this etext has ce...|[this, etext, has...|\n",
      "|                    |                  []|\n",
      "|this electronic v...|[this, electronic...|\n",
      "|shakespeare is co...|[shakespeare, is,...|\n",
      "|provided by proje...|[provided, by, pr...|\n",
      "|machine readable ...|[machine, readabl...|\n",
      "|1 are for your or...|[1, are, for, you...|\n",
      "|distributed or us...|[distributed, or,...|\n",
      "|distribution incl...|[distribution, in...|\n",
      "|time or for membe...|[time, or, for, m...|\n",
      "|                    |                  []|\n",
      "|project gutenberg...|[project, gutenbe...|\n",
      "|in the presentati...|[in, the, present...|\n",
      "|for your reading ...|[for, your, readi...|\n",
      "+--------------------+--------------------+\n",
      "only showing top 20 rows\n",
      "\n"
     ]
    }
   ],
   "source": [
    "romeo_juliet_bigrams.show()"
   ]
  },
  {
   "cell_type": "code",
   "execution_count": 12,
   "id": "f35f01ef-acb0-493c-8354-ce7169af0333",
   "metadata": {},
   "outputs": [],
   "source": [
    "from pyspark.ml.feature import NGram"
   ]
  },
  {
   "cell_type": "code",
   "execution_count": 13,
   "id": "a1bd5c11-ef81-4aab-b87e-1ceb22c33f49",
   "metadata": {},
   "outputs": [
    {
     "name": "stdout",
     "output_type": "stream",
     "text": [
      "+--------------------+--------------------+--------------------+\n",
      "|            new_line|               value|             bigrams|\n",
      "+--------------------+--------------------+--------------------+\n",
      "|                    |                  []|                  []|\n",
      "|this etext file i...|[this, etext, fil...|[this etext, etex...|\n",
      "|cooperation with ...|[cooperation, wit...|[cooperation with...|\n",
      "|future and shakes...|[future, and, sha...|[future and, and ...|\n",
      "|etexts that are n...|[etexts, that, ar...|[etexts that, tha...|\n",
      "|                    |                  []|                  []|\n",
      "|this etext has ce...|[this, etext, has...|[this etext, etex...|\n",
      "|                    |                  []|                  []|\n",
      "|this electronic v...|[this, electronic...|[this electronic,...|\n",
      "|shakespeare is co...|[shakespeare, is,...|[shakespeare is, ...|\n",
      "|provided by proje...|[provided, by, pr...|[provided by, by ...|\n",
      "|machine readable ...|[machine, readabl...|[machine readable...|\n",
      "|1 are for your or...|[1, are, for, you...|[1 are, are for, ...|\n",
      "|distributed or us...|[distributed, or,...|[distributed or, ...|\n",
      "|distribution incl...|[distribution, in...|[distribution inc...|\n",
      "|time or for membe...|[time, or, for, m...|[time or, or for,...|\n",
      "|                    |                  []|                  []|\n",
      "|project gutenberg...|[project, gutenbe...|[project gutenber...|\n",
      "|in the presentati...|[in, the, present...|[in the, the pres...|\n",
      "|for your reading ...|[for, your, readi...|[for your, your r...|\n",
      "+--------------------+--------------------+--------------------+\n",
      "only showing top 20 rows\n",
      "\n"
     ]
    }
   ],
   "source": [
    "romeo_juliet_bigrams = NGram(n=2,inputCol=\"value\",outputCol=\"bigrams\").transform(romeo_juliet_bigrams)\n",
    "romeo_juliet_bigrams.show()"
   ]
  },
  {
   "cell_type": "code",
   "execution_count": 14,
   "id": "75aa6421-5ce0-419a-a6c4-ad25d503f1dd",
   "metadata": {},
   "outputs": [],
   "source": [
    "bigrams = romeo_juliet_bigrams.select(explode(\"bigrams\").alias(\"bigram\")).groupBy(\"bigram\").count().sort('count',ascending=False)"
   ]
  },
  {
   "cell_type": "code",
   "execution_count": 15,
   "id": "cf449f64-9b80-446c-8a11-e3548837ce62",
   "metadata": {},
   "outputs": [],
   "source": [
    "bigram = bigrams.where(col('bigram')!=' ')"
   ]
  },
  {
   "cell_type": "markdown",
   "id": "ff2247df-a8a4-4d14-85ad-306f68d39a34",
   "metadata": {},
   "source": [
    "***Bigrams***"
   ]
  },
  {
   "cell_type": "code",
   "execution_count": 16,
   "id": "b5da334d-4048-4a8a-a2c1-2a34d67a2947",
   "metadata": {},
   "outputs": [
    {
     "name": "stderr",
     "output_type": "stream",
     "text": [
      "[Stage 6:>                                                          (0 + 1) / 1]\r"
     ]
    },
    {
     "name": "stdout",
     "output_type": "stream",
     "text": [
      "+--------+-----+\n",
      "|  bigram|count|\n",
      "+--------+-----+\n",
      "|  of the|   63|\n",
      "|  i will|   60|\n",
      "|    i am|   52|\n",
      "|  in the|   46|\n",
      "|  to the|   39|\n",
      "|  i have|   35|\n",
      "|   it is|   35|\n",
      "|  is the|   30|\n",
      "|thou art|   27|\n",
      "| for the|   24|\n",
      "|  with a|   24|\n",
      "|   to be|   24|\n",
      "| in this|   24|\n",
      "|  that i|   23|\n",
      "|   is my|   23|\n",
      "| give me|   22|\n",
      "| of this|   22|\n",
      "|   to my|   22|\n",
      "|   of my|   22|\n",
      "|art thou|   21|\n",
      "+--------+-----+\n",
      "only showing top 20 rows\n",
      "\n"
     ]
    },
    {
     "name": "stderr",
     "output_type": "stream",
     "text": [
      "                                                                                \r"
     ]
    }
   ],
   "source": [
    "bigram.show()"
   ]
  },
  {
   "cell_type": "code",
   "execution_count": 17,
   "id": "37cc34d9-9077-44e6-9124-6fd9b3ad0bf0",
   "metadata": {},
   "outputs": [
    {
     "name": "stderr",
     "output_type": "stream",
     "text": [
      "[Stage 9:>                                                          (0 + 1) / 1]\r"
     ]
    },
    {
     "name": "stdout",
     "output_type": "stream",
     "text": [
      "+--------+-----+-------------+\n",
      "|  bigram|count|split_bigrams|\n",
      "+--------+-----+-------------+\n",
      "|  of the|   63|    [of, the]|\n",
      "|  i will|   60|    [i, will]|\n",
      "|    i am|   52|      [i, am]|\n",
      "|  in the|   46|    [in, the]|\n",
      "|  to the|   39|    [to, the]|\n",
      "|  i have|   35|    [i, have]|\n",
      "|   it is|   35|     [it, is]|\n",
      "|  is the|   30|    [is, the]|\n",
      "|thou art|   27|  [thou, art]|\n",
      "| for the|   24|   [for, the]|\n",
      "|  with a|   24|    [with, a]|\n",
      "|   to be|   24|     [to, be]|\n",
      "| in this|   24|   [in, this]|\n",
      "|  that i|   23|    [that, i]|\n",
      "|   is my|   23|     [is, my]|\n",
      "| give me|   22|   [give, me]|\n",
      "| of this|   22|   [of, this]|\n",
      "|   to my|   22|     [to, my]|\n",
      "|   of my|   22|     [of, my]|\n",
      "|art thou|   21|  [art, thou]|\n",
      "+--------+-----+-------------+\n",
      "only showing top 20 rows\n",
      "\n"
     ]
    },
    {
     "name": "stderr",
     "output_type": "stream",
     "text": [
      "                                                                                \r"
     ]
    }
   ],
   "source": [
    "bigram = bigram.withColumn(\"split_bigrams\",split(col(\"bigram\"),\" \"))\n",
    "bigram.show()"
   ]
  },
  {
   "cell_type": "code",
   "execution_count": 18,
   "id": "5ddcced5-c0ba-4ea0-a58b-8427b5c649e7",
   "metadata": {},
   "outputs": [],
   "source": [
    "unigram = unigrams.withColumnRenamed(\"count\",\"unigram_count\")\n",
    "bigram = bigram.withColumnRenamed(\"count\",\"bigram_count\")"
   ]
  },
  {
   "cell_type": "code",
   "execution_count": 19,
   "id": "a897ad7b-9937-4796-98a4-33dc6e0e5242",
   "metadata": {},
   "outputs": [
    {
     "name": "stderr",
     "output_type": "stream",
     "text": [
      "                                                                                \r"
     ]
    },
    {
     "name": "stdout",
     "output_type": "stream",
     "text": [
      "+-----------------+------------+--------------------+------------+-------------+\n",
      "|           bigram|bigram_count|       split_bigrams|       words|unigram_count|\n",
      "+-----------------+------------+--------------------+------------+-------------+\n",
      "|     personal use|           9|     [personal, use]|    personal|            9|\n",
      "|        access to|           1|        [access, to]|      access|            2|\n",
      "|   infringement a|           1|   [infringement, a]|infringement|            1|\n",
      "|      daughter to|           1|      [daughter, to]|    daughter|           14|\n",
      "|        while you|           1|        [while, you]|       while|            6|\n",
      "| other servingmen|           1| [other, servingmen]|       other|           28|\n",
      "|            ben i|           3|            [ben, i]|         ben|           64|\n",
      "|       come madam|           1|       [come, madam]|        come|           98|\n",
      "|        she agree|           1|        [she, agree]|         she|          114|\n",
      "|    pleasure stay|           1|    [pleasure, stay]|    pleasure|            5|\n",
      "|          and odd|           1|          [and, odd]|         and|          773|\n",
      "|        were then|           1|        [were, then]|        were|           37|\n",
      "|        is eleven|           1|        [is, eleven]|          is|          383|\n",
      "|       and pretty|           1|       [and, pretty]|         and|          773|\n",
      "|        mark thee|           1|        [mark, thee]|        mark|            6|\n",
      "|       women grow|           1|       [women, grow]|       women|            4|\n",
      "|mercutio benvolio|           3|[mercutio, benvolio]|    mercutio|           21|\n",
      "|   constables own|           1|   [constables, own]|  constables|            1|\n",
      "|          whip of|           1|          [whip, of]|        whip|            2|\n",
      "|          cap byr|           1|          [cap, byr]|         cap|           53|\n",
      "+-----------------+------------+--------------------+------------+-------------+\n",
      "only showing top 20 rows\n",
      "\n"
     ]
    }
   ],
   "source": [
    "result_df = bigram.join(unigram,bigram.split_bigrams[0] == unigram.words,\"inner\")\n",
    "result_df.show()"
   ]
  },
  {
   "cell_type": "code",
   "execution_count": 20,
   "id": "51b4b1e1-bc75-41d1-b994-31a5b909b841",
   "metadata": {},
   "outputs": [],
   "source": [
    "bigram_format = F.udf(lambda x:x[1]+\"|\"+x[0])"
   ]
  },
  {
   "cell_type": "code",
   "execution_count": 21,
   "id": "6d9cff7b-e0ed-4f01-b301-a06df0a160ea",
   "metadata": {},
   "outputs": [],
   "source": [
    "result_df = result_df.withColumn(\"Bigram_format\",bigram_format(col('split_bigrams')) )"
   ]
  },
  {
   "cell_type": "code",
   "execution_count": 22,
   "id": "4f41c03a-2ee0-44a7-8748-7586caabafe6",
   "metadata": {},
   "outputs": [],
   "source": [
    "result_df = result_df.withColumn(\"Probability\",(F.col(\"bigram_count\")/F.col(\"unigram_count\")))"
   ]
  },
  {
   "cell_type": "code",
   "execution_count": 23,
   "id": "f20c9a45-708d-4b0c-8168-a6a87b9b9e64",
   "metadata": {},
   "outputs": [
    {
     "name": "stderr",
     "output_type": "stream",
     "text": [
      "[Stage 23:>                                                         (0 + 1) / 1]\r"
     ]
    },
    {
     "name": "stdout",
     "output_type": "stream",
     "text": [
      "+-----------------+------------+--------------------+------------+-------------+-----------------+--------------------+\n",
      "|           bigram|bigram_count|       split_bigrams|       words|unigram_count|    Bigram_format|         Probability|\n",
      "+-----------------+------------+--------------------+------------+-------------+-----------------+--------------------+\n",
      "|     personal use|           9|     [personal, use]|    personal|            9|     use|personal|                 1.0|\n",
      "|        access to|           1|        [access, to]|      access|            2|        to|access|                 0.5|\n",
      "|   infringement a|           1|   [infringement, a]|infringement|            1|   a|infringement|                 1.0|\n",
      "|      daughter to|           1|      [daughter, to]|    daughter|           14|      to|daughter| 0.07142857142857142|\n",
      "|        while you|           1|        [while, you]|       while|            6|        you|while| 0.16666666666666666|\n",
      "| other servingmen|           1| [other, servingmen]|       other|           28| servingmen|other| 0.03571428571428571|\n",
      "|            ben i|           3|            [ben, i]|         ben|           64|            i|ben|            0.046875|\n",
      "|       come madam|           1|       [come, madam]|        come|           98|       madam|come| 0.01020408163265306|\n",
      "|        she agree|           1|        [she, agree]|         she|          114|        agree|she|0.008771929824561403|\n",
      "|    pleasure stay|           1|    [pleasure, stay]|    pleasure|            5|    stay|pleasure|                 0.2|\n",
      "|          and odd|           1|          [and, odd]|         and|          773|          odd|and| 0.00129366106080207|\n",
      "|        were then|           1|        [were, then]|        were|           37|        then|were| 0.02702702702702703|\n",
      "|        is eleven|           1|        [is, eleven]|          is|          383|        eleven|is|0.002610966057441...|\n",
      "|       and pretty|           1|       [and, pretty]|         and|          773|       pretty|and| 0.00129366106080207|\n",
      "|        mark thee|           1|        [mark, thee]|        mark|            6|        thee|mark| 0.16666666666666666|\n",
      "|       women grow|           1|       [women, grow]|       women|            4|       grow|women|                0.25|\n",
      "|mercutio benvolio|           3|[mercutio, benvolio]|    mercutio|           21|benvolio|mercutio| 0.14285714285714285|\n",
      "|   constables own|           1|   [constables, own]|  constables|            1|   own|constables|                 1.0|\n",
      "|          whip of|           1|          [whip, of]|        whip|            2|          of|whip|                 0.5|\n",
      "|          cap byr|           1|          [cap, byr]|         cap|           53|          byr|cap|0.018867924528301886|\n",
      "+-----------------+------------+--------------------+------------+-------------+-----------------+--------------------+\n",
      "only showing top 20 rows\n",
      "\n"
     ]
    },
    {
     "name": "stderr",
     "output_type": "stream",
     "text": [
      "                                                                                \r"
     ]
    }
   ],
   "source": [
    "result_df.show()"
   ]
  },
  {
   "cell_type": "code",
   "execution_count": 63,
   "id": "04bd8a01-1b47-4817-b966-316fabbeada7",
   "metadata": {},
   "outputs": [
    {
     "name": "stdout",
     "output_type": "stream",
     "text": [
      "+----------------+--------------------+\n",
      "|   Bigram_format|         Probability|\n",
      "+----------------+--------------------+\n",
      "|    use|personal|                 1.0|\n",
      "|       to|access|                 0.5|\n",
      "|  a|infringement|                 1.0|\n",
      "|     to|daughter| 0.07142857142857142|\n",
      "|       you|while| 0.16666666666666666|\n",
      "|servingmen|other| 0.03571428571428571|\n",
      "|           i|ben|            0.046875|\n",
      "|      madam|come| 0.01020408163265306|\n",
      "|       agree|she|0.008771929824561403|\n",
      "|   stay|pleasure|                 0.2|\n",
      "+----------------+--------------------+\n",
      "only showing top 10 rows\n",
      "\n"
     ]
    }
   ],
   "source": [
    "result_df.select(result_df.columns[5:7]).show(10)"
   ]
  },
  {
   "cell_type": "markdown",
   "id": "edda938e-5053-4365-9b88-2b57f392cbb6",
   "metadata": {},
   "source": [
    "**Question 3. Spark Bloom Filters and Broadcast Joins**"
   ]
  },
  {
   "cell_type": "code",
   "execution_count": 25,
   "id": "015593fa-7933-424d-a591-6f5178d55ae3",
   "metadata": {},
   "outputs": [],
   "source": [
    "Files_of_A_1 = [\"shared/midterm/drive_stats_2019_Q1/\"+\"2019-01-0%s.csv\"%(str(i)) if i<10 else \"shared/midterm/drive_stats_2019_Q1/\"+\"2019-01-%s.csv\"%(str(i)) for i in range(1,32)]"
   ]
  },
  {
   "cell_type": "code",
   "execution_count": 26,
   "id": "dd0367eb-54aa-4e5b-ad55-563f6cddb23d",
   "metadata": {},
   "outputs": [
    {
     "data": {
      "text/plain": [
       "['shared/midterm/drive_stats_2019_Q1/2019-01-01.csv',\n",
       " 'shared/midterm/drive_stats_2019_Q1/2019-01-02.csv',\n",
       " 'shared/midterm/drive_stats_2019_Q1/2019-01-03.csv',\n",
       " 'shared/midterm/drive_stats_2019_Q1/2019-01-04.csv',\n",
       " 'shared/midterm/drive_stats_2019_Q1/2019-01-05.csv',\n",
       " 'shared/midterm/drive_stats_2019_Q1/2019-01-06.csv',\n",
       " 'shared/midterm/drive_stats_2019_Q1/2019-01-07.csv',\n",
       " 'shared/midterm/drive_stats_2019_Q1/2019-01-08.csv',\n",
       " 'shared/midterm/drive_stats_2019_Q1/2019-01-09.csv',\n",
       " 'shared/midterm/drive_stats_2019_Q1/2019-01-10.csv',\n",
       " 'shared/midterm/drive_stats_2019_Q1/2019-01-11.csv',\n",
       " 'shared/midterm/drive_stats_2019_Q1/2019-01-12.csv',\n",
       " 'shared/midterm/drive_stats_2019_Q1/2019-01-13.csv',\n",
       " 'shared/midterm/drive_stats_2019_Q1/2019-01-14.csv',\n",
       " 'shared/midterm/drive_stats_2019_Q1/2019-01-15.csv',\n",
       " 'shared/midterm/drive_stats_2019_Q1/2019-01-16.csv',\n",
       " 'shared/midterm/drive_stats_2019_Q1/2019-01-17.csv',\n",
       " 'shared/midterm/drive_stats_2019_Q1/2019-01-18.csv',\n",
       " 'shared/midterm/drive_stats_2019_Q1/2019-01-19.csv',\n",
       " 'shared/midterm/drive_stats_2019_Q1/2019-01-20.csv',\n",
       " 'shared/midterm/drive_stats_2019_Q1/2019-01-21.csv',\n",
       " 'shared/midterm/drive_stats_2019_Q1/2019-01-22.csv',\n",
       " 'shared/midterm/drive_stats_2019_Q1/2019-01-23.csv',\n",
       " 'shared/midterm/drive_stats_2019_Q1/2019-01-24.csv',\n",
       " 'shared/midterm/drive_stats_2019_Q1/2019-01-25.csv',\n",
       " 'shared/midterm/drive_stats_2019_Q1/2019-01-26.csv',\n",
       " 'shared/midterm/drive_stats_2019_Q1/2019-01-27.csv',\n",
       " 'shared/midterm/drive_stats_2019_Q1/2019-01-28.csv',\n",
       " 'shared/midterm/drive_stats_2019_Q1/2019-01-29.csv',\n",
       " 'shared/midterm/drive_stats_2019_Q1/2019-01-30.csv',\n",
       " 'shared/midterm/drive_stats_2019_Q1/2019-01-31.csv']"
      ]
     },
     "execution_count": 26,
     "metadata": {},
     "output_type": "execute_result"
    }
   ],
   "source": [
    "Files_of_A_1"
   ]
  },
  {
   "cell_type": "code",
   "execution_count": 27,
   "id": "9840d454-7a25-4d4f-a1dd-17ac7252e001",
   "metadata": {},
   "outputs": [],
   "source": [
    "Files_of_A_2 = [\"shared/midterm/drive_stats_2019_Q1/\"+\"2019-02-0%s.csv\"%(str(i)) if i<10 else \"shared/midterm/drive_stats_2019_Q1/\"+\"2019-02-%s.csv\"%(str(i)) for i in range(1,29)]"
   ]
  },
  {
   "cell_type": "code",
   "execution_count": 28,
   "id": "9efd433f-e01a-4d79-83fa-09fcfd9fd0b0",
   "metadata": {},
   "outputs": [
    {
     "data": {
      "text/plain": [
       "['shared/midterm/drive_stats_2019_Q1/2019-02-01.csv',\n",
       " 'shared/midterm/drive_stats_2019_Q1/2019-02-02.csv',\n",
       " 'shared/midterm/drive_stats_2019_Q1/2019-02-03.csv',\n",
       " 'shared/midterm/drive_stats_2019_Q1/2019-02-04.csv',\n",
       " 'shared/midterm/drive_stats_2019_Q1/2019-02-05.csv',\n",
       " 'shared/midterm/drive_stats_2019_Q1/2019-02-06.csv',\n",
       " 'shared/midterm/drive_stats_2019_Q1/2019-02-07.csv',\n",
       " 'shared/midterm/drive_stats_2019_Q1/2019-02-08.csv',\n",
       " 'shared/midterm/drive_stats_2019_Q1/2019-02-09.csv',\n",
       " 'shared/midterm/drive_stats_2019_Q1/2019-02-10.csv',\n",
       " 'shared/midterm/drive_stats_2019_Q1/2019-02-11.csv',\n",
       " 'shared/midterm/drive_stats_2019_Q1/2019-02-12.csv',\n",
       " 'shared/midterm/drive_stats_2019_Q1/2019-02-13.csv',\n",
       " 'shared/midterm/drive_stats_2019_Q1/2019-02-14.csv',\n",
       " 'shared/midterm/drive_stats_2019_Q1/2019-02-15.csv',\n",
       " 'shared/midterm/drive_stats_2019_Q1/2019-02-16.csv',\n",
       " 'shared/midterm/drive_stats_2019_Q1/2019-02-17.csv',\n",
       " 'shared/midterm/drive_stats_2019_Q1/2019-02-18.csv',\n",
       " 'shared/midterm/drive_stats_2019_Q1/2019-02-19.csv',\n",
       " 'shared/midterm/drive_stats_2019_Q1/2019-02-20.csv',\n",
       " 'shared/midterm/drive_stats_2019_Q1/2019-02-21.csv',\n",
       " 'shared/midterm/drive_stats_2019_Q1/2019-02-22.csv',\n",
       " 'shared/midterm/drive_stats_2019_Q1/2019-02-23.csv',\n",
       " 'shared/midterm/drive_stats_2019_Q1/2019-02-24.csv',\n",
       " 'shared/midterm/drive_stats_2019_Q1/2019-02-25.csv',\n",
       " 'shared/midterm/drive_stats_2019_Q1/2019-02-26.csv',\n",
       " 'shared/midterm/drive_stats_2019_Q1/2019-02-27.csv',\n",
       " 'shared/midterm/drive_stats_2019_Q1/2019-02-28.csv']"
      ]
     },
     "execution_count": 28,
     "metadata": {},
     "output_type": "execute_result"
    }
   ],
   "source": [
    "Files_of_A_2"
   ]
  },
  {
   "cell_type": "code",
   "execution_count": 29,
   "id": "f141ec3d-b8ed-425b-b778-c376b803b6db",
   "metadata": {},
   "outputs": [],
   "source": [
    "Files_of_A_3 = [\"shared/midterm/drive_stats_2019_Q1/\"+\"2019-03-0%s.csv\"%(str(i)) if i<10 else \"shared/midterm/drive_stats_2019_Q1/\"+\"2019-03-%s.csv\"%(str(i)) for i in range(1,31)]"
   ]
  },
  {
   "cell_type": "code",
   "execution_count": 30,
   "id": "d773a807-cdfe-4f5c-9531-2187db16a033",
   "metadata": {},
   "outputs": [
    {
     "data": {
      "text/plain": [
       "['shared/midterm/drive_stats_2019_Q1/2019-03-01.csv',\n",
       " 'shared/midterm/drive_stats_2019_Q1/2019-03-02.csv',\n",
       " 'shared/midterm/drive_stats_2019_Q1/2019-03-03.csv',\n",
       " 'shared/midterm/drive_stats_2019_Q1/2019-03-04.csv',\n",
       " 'shared/midterm/drive_stats_2019_Q1/2019-03-05.csv',\n",
       " 'shared/midterm/drive_stats_2019_Q1/2019-03-06.csv',\n",
       " 'shared/midterm/drive_stats_2019_Q1/2019-03-07.csv',\n",
       " 'shared/midterm/drive_stats_2019_Q1/2019-03-08.csv',\n",
       " 'shared/midterm/drive_stats_2019_Q1/2019-03-09.csv',\n",
       " 'shared/midterm/drive_stats_2019_Q1/2019-03-10.csv',\n",
       " 'shared/midterm/drive_stats_2019_Q1/2019-03-11.csv',\n",
       " 'shared/midterm/drive_stats_2019_Q1/2019-03-12.csv',\n",
       " 'shared/midterm/drive_stats_2019_Q1/2019-03-13.csv',\n",
       " 'shared/midterm/drive_stats_2019_Q1/2019-03-14.csv',\n",
       " 'shared/midterm/drive_stats_2019_Q1/2019-03-15.csv',\n",
       " 'shared/midterm/drive_stats_2019_Q1/2019-03-16.csv',\n",
       " 'shared/midterm/drive_stats_2019_Q1/2019-03-17.csv',\n",
       " 'shared/midterm/drive_stats_2019_Q1/2019-03-18.csv',\n",
       " 'shared/midterm/drive_stats_2019_Q1/2019-03-19.csv',\n",
       " 'shared/midterm/drive_stats_2019_Q1/2019-03-20.csv',\n",
       " 'shared/midterm/drive_stats_2019_Q1/2019-03-21.csv',\n",
       " 'shared/midterm/drive_stats_2019_Q1/2019-03-22.csv',\n",
       " 'shared/midterm/drive_stats_2019_Q1/2019-03-23.csv',\n",
       " 'shared/midterm/drive_stats_2019_Q1/2019-03-24.csv',\n",
       " 'shared/midterm/drive_stats_2019_Q1/2019-03-25.csv',\n",
       " 'shared/midterm/drive_stats_2019_Q1/2019-03-26.csv',\n",
       " 'shared/midterm/drive_stats_2019_Q1/2019-03-27.csv',\n",
       " 'shared/midterm/drive_stats_2019_Q1/2019-03-28.csv',\n",
       " 'shared/midterm/drive_stats_2019_Q1/2019-03-29.csv',\n",
       " 'shared/midterm/drive_stats_2019_Q1/2019-03-30.csv']"
      ]
     },
     "execution_count": 30,
     "metadata": {},
     "output_type": "execute_result"
    }
   ],
   "source": [
    "Files_of_A_3"
   ]
  },
  {
   "cell_type": "code",
   "execution_count": 31,
   "id": "a331d24e-ac05-4cc5-9916-1d49bee3a115",
   "metadata": {},
   "outputs": [],
   "source": [
    "Files_of_B = \"shared/midterm/drive_stats_2019_Q1/2019-03-31.csv\""
   ]
  },
  {
   "cell_type": "code",
   "execution_count": 32,
   "id": "63efc3f5-cadb-4a45-af61-2340a8fdb5f9",
   "metadata": {},
   "outputs": [],
   "source": [
    "Files_of_A = Files_of_A_1 + Files_of_A_2 + Files_of_A_3"
   ]
  },
  {
   "cell_type": "code",
   "execution_count": 33,
   "id": "9daa1504-68ac-4365-a6e4-bb4b8a914b73",
   "metadata": {},
   "outputs": [
    {
     "data": {
      "text/plain": [
       "['shared/midterm/drive_stats_2019_Q1/2019-01-01.csv',\n",
       " 'shared/midterm/drive_stats_2019_Q1/2019-01-02.csv',\n",
       " 'shared/midterm/drive_stats_2019_Q1/2019-01-03.csv',\n",
       " 'shared/midterm/drive_stats_2019_Q1/2019-01-04.csv',\n",
       " 'shared/midterm/drive_stats_2019_Q1/2019-01-05.csv',\n",
       " 'shared/midterm/drive_stats_2019_Q1/2019-01-06.csv',\n",
       " 'shared/midterm/drive_stats_2019_Q1/2019-01-07.csv',\n",
       " 'shared/midterm/drive_stats_2019_Q1/2019-01-08.csv',\n",
       " 'shared/midterm/drive_stats_2019_Q1/2019-01-09.csv',\n",
       " 'shared/midterm/drive_stats_2019_Q1/2019-01-10.csv',\n",
       " 'shared/midterm/drive_stats_2019_Q1/2019-01-11.csv',\n",
       " 'shared/midterm/drive_stats_2019_Q1/2019-01-12.csv',\n",
       " 'shared/midterm/drive_stats_2019_Q1/2019-01-13.csv',\n",
       " 'shared/midterm/drive_stats_2019_Q1/2019-01-14.csv',\n",
       " 'shared/midterm/drive_stats_2019_Q1/2019-01-15.csv',\n",
       " 'shared/midterm/drive_stats_2019_Q1/2019-01-16.csv',\n",
       " 'shared/midterm/drive_stats_2019_Q1/2019-01-17.csv',\n",
       " 'shared/midterm/drive_stats_2019_Q1/2019-01-18.csv',\n",
       " 'shared/midterm/drive_stats_2019_Q1/2019-01-19.csv',\n",
       " 'shared/midterm/drive_stats_2019_Q1/2019-01-20.csv',\n",
       " 'shared/midterm/drive_stats_2019_Q1/2019-01-21.csv',\n",
       " 'shared/midterm/drive_stats_2019_Q1/2019-01-22.csv',\n",
       " 'shared/midterm/drive_stats_2019_Q1/2019-01-23.csv',\n",
       " 'shared/midterm/drive_stats_2019_Q1/2019-01-24.csv',\n",
       " 'shared/midterm/drive_stats_2019_Q1/2019-01-25.csv',\n",
       " 'shared/midterm/drive_stats_2019_Q1/2019-01-26.csv',\n",
       " 'shared/midterm/drive_stats_2019_Q1/2019-01-27.csv',\n",
       " 'shared/midterm/drive_stats_2019_Q1/2019-01-28.csv',\n",
       " 'shared/midterm/drive_stats_2019_Q1/2019-01-29.csv',\n",
       " 'shared/midterm/drive_stats_2019_Q1/2019-01-30.csv',\n",
       " 'shared/midterm/drive_stats_2019_Q1/2019-01-31.csv',\n",
       " 'shared/midterm/drive_stats_2019_Q1/2019-02-01.csv',\n",
       " 'shared/midterm/drive_stats_2019_Q1/2019-02-02.csv',\n",
       " 'shared/midterm/drive_stats_2019_Q1/2019-02-03.csv',\n",
       " 'shared/midterm/drive_stats_2019_Q1/2019-02-04.csv',\n",
       " 'shared/midterm/drive_stats_2019_Q1/2019-02-05.csv',\n",
       " 'shared/midterm/drive_stats_2019_Q1/2019-02-06.csv',\n",
       " 'shared/midterm/drive_stats_2019_Q1/2019-02-07.csv',\n",
       " 'shared/midterm/drive_stats_2019_Q1/2019-02-08.csv',\n",
       " 'shared/midterm/drive_stats_2019_Q1/2019-02-09.csv',\n",
       " 'shared/midterm/drive_stats_2019_Q1/2019-02-10.csv',\n",
       " 'shared/midterm/drive_stats_2019_Q1/2019-02-11.csv',\n",
       " 'shared/midterm/drive_stats_2019_Q1/2019-02-12.csv',\n",
       " 'shared/midterm/drive_stats_2019_Q1/2019-02-13.csv',\n",
       " 'shared/midterm/drive_stats_2019_Q1/2019-02-14.csv',\n",
       " 'shared/midterm/drive_stats_2019_Q1/2019-02-15.csv',\n",
       " 'shared/midterm/drive_stats_2019_Q1/2019-02-16.csv',\n",
       " 'shared/midterm/drive_stats_2019_Q1/2019-02-17.csv',\n",
       " 'shared/midterm/drive_stats_2019_Q1/2019-02-18.csv',\n",
       " 'shared/midterm/drive_stats_2019_Q1/2019-02-19.csv',\n",
       " 'shared/midterm/drive_stats_2019_Q1/2019-02-20.csv',\n",
       " 'shared/midterm/drive_stats_2019_Q1/2019-02-21.csv',\n",
       " 'shared/midterm/drive_stats_2019_Q1/2019-02-22.csv',\n",
       " 'shared/midterm/drive_stats_2019_Q1/2019-02-23.csv',\n",
       " 'shared/midterm/drive_stats_2019_Q1/2019-02-24.csv',\n",
       " 'shared/midterm/drive_stats_2019_Q1/2019-02-25.csv',\n",
       " 'shared/midterm/drive_stats_2019_Q1/2019-02-26.csv',\n",
       " 'shared/midterm/drive_stats_2019_Q1/2019-02-27.csv',\n",
       " 'shared/midterm/drive_stats_2019_Q1/2019-02-28.csv',\n",
       " 'shared/midterm/drive_stats_2019_Q1/2019-03-01.csv',\n",
       " 'shared/midterm/drive_stats_2019_Q1/2019-03-02.csv',\n",
       " 'shared/midterm/drive_stats_2019_Q1/2019-03-03.csv',\n",
       " 'shared/midterm/drive_stats_2019_Q1/2019-03-04.csv',\n",
       " 'shared/midterm/drive_stats_2019_Q1/2019-03-05.csv',\n",
       " 'shared/midterm/drive_stats_2019_Q1/2019-03-06.csv',\n",
       " 'shared/midterm/drive_stats_2019_Q1/2019-03-07.csv',\n",
       " 'shared/midterm/drive_stats_2019_Q1/2019-03-08.csv',\n",
       " 'shared/midterm/drive_stats_2019_Q1/2019-03-09.csv',\n",
       " 'shared/midterm/drive_stats_2019_Q1/2019-03-10.csv',\n",
       " 'shared/midterm/drive_stats_2019_Q1/2019-03-11.csv',\n",
       " 'shared/midterm/drive_stats_2019_Q1/2019-03-12.csv',\n",
       " 'shared/midterm/drive_stats_2019_Q1/2019-03-13.csv',\n",
       " 'shared/midterm/drive_stats_2019_Q1/2019-03-14.csv',\n",
       " 'shared/midterm/drive_stats_2019_Q1/2019-03-15.csv',\n",
       " 'shared/midterm/drive_stats_2019_Q1/2019-03-16.csv',\n",
       " 'shared/midterm/drive_stats_2019_Q1/2019-03-17.csv',\n",
       " 'shared/midterm/drive_stats_2019_Q1/2019-03-18.csv',\n",
       " 'shared/midterm/drive_stats_2019_Q1/2019-03-19.csv',\n",
       " 'shared/midterm/drive_stats_2019_Q1/2019-03-20.csv',\n",
       " 'shared/midterm/drive_stats_2019_Q1/2019-03-21.csv',\n",
       " 'shared/midterm/drive_stats_2019_Q1/2019-03-22.csv',\n",
       " 'shared/midterm/drive_stats_2019_Q1/2019-03-23.csv',\n",
       " 'shared/midterm/drive_stats_2019_Q1/2019-03-24.csv',\n",
       " 'shared/midterm/drive_stats_2019_Q1/2019-03-25.csv',\n",
       " 'shared/midterm/drive_stats_2019_Q1/2019-03-26.csv',\n",
       " 'shared/midterm/drive_stats_2019_Q1/2019-03-27.csv',\n",
       " 'shared/midterm/drive_stats_2019_Q1/2019-03-28.csv',\n",
       " 'shared/midterm/drive_stats_2019_Q1/2019-03-29.csv',\n",
       " 'shared/midterm/drive_stats_2019_Q1/2019-03-30.csv']"
      ]
     },
     "execution_count": 33,
     "metadata": {},
     "output_type": "execute_result"
    }
   ],
   "source": [
    "Files_of_A"
   ]
  },
  {
   "cell_type": "code",
   "execution_count": 34,
   "id": "af369bbd-7fa5-4464-b765-b40890c53981",
   "metadata": {},
   "outputs": [
    {
     "name": "stderr",
     "output_type": "stream",
     "text": [
      "                                                                                \r"
     ]
    }
   ],
   "source": [
    "df_A = spark.read.load(Files_of_A,format=\"csv\", inferSchema=\"true\", header=\"true\")"
   ]
  },
  {
   "cell_type": "code",
   "execution_count": 35,
   "id": "ce30b837-55e1-4914-a866-e0f62cca79ce",
   "metadata": {},
   "outputs": [
    {
     "name": "stderr",
     "output_type": "stream",
     "text": [
      "                                                                                \r"
     ]
    }
   ],
   "source": [
    "df_B = spark.read.load(Files_of_B,format=\"csv\", inferSchema=\"true\", header=\"true\")"
   ]
  },
  {
   "cell_type": "code",
   "execution_count": 36,
   "id": "5afc7bd4-7963-4b85-95c8-17ec563dd9db",
   "metadata": {},
   "outputs": [
    {
     "name": "stderr",
     "output_type": "stream",
     "text": [
      "                                                                                \r"
     ]
    },
    {
     "data": {
      "text/plain": [
       "9470808"
      ]
     },
     "execution_count": 36,
     "metadata": {},
     "output_type": "execute_result"
    }
   ],
   "source": [
    "df_A.count()"
   ]
  },
  {
   "cell_type": "code",
   "execution_count": 37,
   "id": "4eed871e-4883-4e5d-b514-db765f42c3b8",
   "metadata": {},
   "outputs": [
    {
     "name": "stderr",
     "output_type": "stream",
     "text": [
      "                                                                                \r"
     ]
    }
   ],
   "source": [
    "List_model = [x[0] for x in df_B.select(\"model\").distinct().collect()]"
   ]
  },
  {
   "cell_type": "code",
   "execution_count": 38,
   "id": "65c558ae-69b3-4e0b-a2c9-8721cdbb85d3",
   "metadata": {},
   "outputs": [
    {
     "data": {
      "text/plain": [
       "['ST4000DM000',\n",
       " 'ST12000NM0007',\n",
       " 'ST8000DM005',\n",
       " 'TOSHIBA MQ01ABF050M',\n",
       " 'ST8000NM0055',\n",
       " 'Seagate BarraCuda SSD ZA2000CM10002',\n",
       " 'TOSHIBA MG07ACA14TA',\n",
       " 'WDC WD60EFRX',\n",
       " 'ST8000DM002',\n",
       " 'ST4000DM005',\n",
       " 'DELLBOSS VD',\n",
       " 'HGST HUS726040ALE610',\n",
       " 'TOSHIBA HDWF180',\n",
       " 'HGST HMS5C4040ALE640',\n",
       " 'HGST HUH721010ALE600',\n",
       " 'TOSHIBA MD04ABA500V',\n",
       " 'TOSHIBA MD04ABA400V',\n",
       " 'ST10000NM0086',\n",
       " 'TOSHIBA MQ01ABF050',\n",
       " 'ST500LM021',\n",
       " 'Seagate BarraCuda SSD ZA500CM10002',\n",
       " 'ST6000DM004',\n",
       " 'ST6000DM001',\n",
       " 'HGST HMS5C4040BLE640',\n",
       " 'ST6000DX000',\n",
       " 'WDC WD5000LPVX',\n",
       " 'WDC WD5000BPKT',\n",
       " 'TOSHIBA HDWE160',\n",
       " 'ST500LM030',\n",
       " 'ST500LM012 HN',\n",
       " 'HGST HUH728080ALE600',\n",
       " 'HGST HDS5C4040ALE630',\n",
       " 'Hitachi HDS5C4040ALE630',\n",
       " 'HGST HUH721212ALE600',\n",
       " 'WDC WD5000LPCX',\n",
       " 'ST8000DM004',\n",
       " 'HGST HUH721212ALN604',\n",
       " 'HGST HMS5C4040BLE641',\n",
       " 'ST1000LM024 HN']"
      ]
     },
     "execution_count": 38,
     "metadata": {},
     "output_type": "execute_result"
    }
   ],
   "source": [
    "List_model"
   ]
  },
  {
   "cell_type": "code",
   "execution_count": 39,
   "id": "0c338176-67cd-4795-9d4f-87bbc3a58424",
   "metadata": {},
   "outputs": [],
   "source": [
    "from bloom_filter2 import BloomFilter"
   ]
  },
  {
   "cell_type": "code",
   "execution_count": 40,
   "id": "abd476c9-de2e-4e05-b159-6285f9e25513",
   "metadata": {},
   "outputs": [],
   "source": [
    "#pip install bloom-filter2"
   ]
  },
  {
   "cell_type": "code",
   "execution_count": 41,
   "id": "d075c775-260f-42ff-b751-5b91c6ac883d",
   "metadata": {},
   "outputs": [
    {
     "name": "stdout",
     "output_type": "stream",
     "text": [
      "39\n"
     ]
    }
   ],
   "source": [
    "print(len(List_model))"
   ]
  },
  {
   "cell_type": "code",
   "execution_count": 42,
   "id": "dd2df3eb-241f-45d0-82d0-8ae451099247",
   "metadata": {},
   "outputs": [],
   "source": [
    "bloom = BloomFilter(max_elements=50, error_rate=0.001)"
   ]
  },
  {
   "cell_type": "code",
   "execution_count": 43,
   "id": "090ed456-9b3f-477e-8e58-dc4efaa19e00",
   "metadata": {},
   "outputs": [],
   "source": [
    "for i in List_model:\n",
    "    bloom.add(i)"
   ]
  },
  {
   "cell_type": "code",
   "execution_count": 44,
   "id": "ed85c9d9-dbd2-49a3-b38c-dcc2f71de346",
   "metadata": {},
   "outputs": [],
   "source": [
    "assert 'ST1000LM024 HN' in bloom"
   ]
  },
  {
   "cell_type": "code",
   "execution_count": 45,
   "id": "99fefdc6-8d9f-48fc-b16a-386434870249",
   "metadata": {},
   "outputs": [],
   "source": [
    "bloom_filter_broadcast = sc.broadcast(bloom)"
   ]
  },
  {
   "cell_type": "code",
   "execution_count": 46,
   "id": "b503ef81-23b2-4e3d-9c91-29bae08a707c",
   "metadata": {},
   "outputs": [],
   "source": [
    "def model_filter( bloom_filter_broadcast ):\n",
    "    bloom_filter_broadcast_value = bloom_filter_broadcast.value\n",
    "    def _filter(df_A):\n",
    "        for x in df_A:\n",
    "            if x['model'] in bloom_filter_broadcast_value:\n",
    "                yield x\n",
    "    return _filter"
   ]
  },
  {
   "cell_type": "code",
   "execution_count": 47,
   "id": "55dc28c1-89b7-4a1d-9efc-e7da0e5209a1",
   "metadata": {},
   "outputs": [
    {
     "name": "stderr",
     "output_type": "stream",
     "text": [
      "                                                                                \r"
     ]
    },
    {
     "data": {
      "text/plain": [
       "9470149"
      ]
     },
     "execution_count": 47,
     "metadata": {},
     "output_type": "execute_result"
    }
   ],
   "source": [
    "df_A.rdd.mapPartitions(model_filter(bloom_filter_broadcast)).count()"
   ]
  },
  {
   "cell_type": "markdown",
   "id": "04d63640-bcdc-4320-b92a-baf54369a1e0",
   "metadata": {},
   "source": [
    "**Question 4. Ranking over Partitions - In Spark**\n"
   ]
  },
  {
   "cell_type": "code",
   "execution_count": 48,
   "id": "c90daa49-ae8e-4b57-98f9-d3cee17709e6",
   "metadata": {},
   "outputs": [],
   "source": [
    "BreadBasket = spark\\\n",
    ".read.option(\"header\",True)\\\n",
    ".option(\"inferSchema\",True)\\\n",
    ".csv(\"shared/hw2/BreadBasket_DMS.csv\")"
   ]
  },
  {
   "cell_type": "code",
   "execution_count": 49,
   "id": "5c93d4f5-ed29-43ed-bc7f-ef5a54429435",
   "metadata": {},
   "outputs": [],
   "source": [
    "from pyspark.sql.functions import col,hour"
   ]
  },
  {
   "cell_type": "code",
   "execution_count": 50,
   "id": "7f483491-4e84-4ad4-af1f-705ff5d58170",
   "metadata": {},
   "outputs": [],
   "source": [
    "BreadBasket_new = BreadBasket.withColumn(\"Hour\", hour(col(\"Time\")))"
   ]
  },
  {
   "cell_type": "code",
   "execution_count": 51,
   "id": "9c9d8490-c484-4e4a-83dc-2aeeca036865",
   "metadata": {},
   "outputs": [
    {
     "data": {
      "text/html": [
       "<table border='1'>\n",
       "<tr><th>Date</th><th>Time</th><th>Transaction</th><th>Item</th><th>Hour</th></tr>\n",
       "<tr><td>2016-10-30 00:00:00</td><td>2022-10-24 09:58:11</td><td>1</td><td>Bread</td><td>9</td></tr>\n",
       "<tr><td>2016-10-30 00:00:00</td><td>2022-10-24 10:05:34</td><td>2</td><td>Scandinavian</td><td>10</td></tr>\n",
       "<tr><td>2016-10-30 00:00:00</td><td>2022-10-24 10:05:34</td><td>2</td><td>Scandinavian</td><td>10</td></tr>\n",
       "<tr><td>2016-10-30 00:00:00</td><td>2022-10-24 10:07:57</td><td>3</td><td>Hot chocolate</td><td>10</td></tr>\n",
       "<tr><td>2016-10-30 00:00:00</td><td>2022-10-24 10:07:57</td><td>3</td><td>Jam</td><td>10</td></tr>\n",
       "<tr><td>2016-10-30 00:00:00</td><td>2022-10-24 10:07:57</td><td>3</td><td>Cookies</td><td>10</td></tr>\n",
       "<tr><td>2016-10-30 00:00:00</td><td>2022-10-24 10:08:41</td><td>4</td><td>Muffin</td><td>10</td></tr>\n",
       "<tr><td>2016-10-30 00:00:00</td><td>2022-10-24 10:13:03</td><td>5</td><td>Coffee</td><td>10</td></tr>\n",
       "<tr><td>2016-10-30 00:00:00</td><td>2022-10-24 10:13:03</td><td>5</td><td>Pastry</td><td>10</td></tr>\n",
       "<tr><td>2016-10-30 00:00:00</td><td>2022-10-24 10:13:03</td><td>5</td><td>Bread</td><td>10</td></tr>\n",
       "<tr><td>2016-10-30 00:00:00</td><td>2022-10-24 10:16:55</td><td>6</td><td>Medialuna</td><td>10</td></tr>\n",
       "<tr><td>2016-10-30 00:00:00</td><td>2022-10-24 10:16:55</td><td>6</td><td>Pastry</td><td>10</td></tr>\n",
       "<tr><td>2016-10-30 00:00:00</td><td>2022-10-24 10:16:55</td><td>6</td><td>Muffin</td><td>10</td></tr>\n",
       "<tr><td>2016-10-30 00:00:00</td><td>2022-10-24 10:19:12</td><td>7</td><td>Medialuna</td><td>10</td></tr>\n",
       "<tr><td>2016-10-30 00:00:00</td><td>2022-10-24 10:19:12</td><td>7</td><td>Pastry</td><td>10</td></tr>\n",
       "<tr><td>2016-10-30 00:00:00</td><td>2022-10-24 10:19:12</td><td>7</td><td>Coffee</td><td>10</td></tr>\n",
       "<tr><td>2016-10-30 00:00:00</td><td>2022-10-24 10:19:12</td><td>7</td><td>Tea</td><td>10</td></tr>\n",
       "<tr><td>2016-10-30 00:00:00</td><td>2022-10-24 10:20:51</td><td>8</td><td>Pastry</td><td>10</td></tr>\n",
       "<tr><td>2016-10-30 00:00:00</td><td>2022-10-24 10:20:51</td><td>8</td><td>Bread</td><td>10</td></tr>\n",
       "<tr><td>2016-10-30 00:00:00</td><td>2022-10-24 10:21:59</td><td>9</td><td>Bread</td><td>10</td></tr>\n",
       "</table>\n",
       "only showing top 20 rows\n"
      ],
      "text/plain": [
       "+-------------------+-------------------+-----------+-------------+----+\n",
       "|               Date|               Time|Transaction|         Item|Hour|\n",
       "+-------------------+-------------------+-----------+-------------+----+\n",
       "|2016-10-30 00:00:00|2022-10-24 09:58:11|          1|        Bread|   9|\n",
       "|2016-10-30 00:00:00|2022-10-24 10:05:34|          2| Scandinavian|  10|\n",
       "|2016-10-30 00:00:00|2022-10-24 10:05:34|          2| Scandinavian|  10|\n",
       "|2016-10-30 00:00:00|2022-10-24 10:07:57|          3|Hot chocolate|  10|\n",
       "|2016-10-30 00:00:00|2022-10-24 10:07:57|          3|          Jam|  10|\n",
       "|2016-10-30 00:00:00|2022-10-24 10:07:57|          3|      Cookies|  10|\n",
       "|2016-10-30 00:00:00|2022-10-24 10:08:41|          4|       Muffin|  10|\n",
       "|2016-10-30 00:00:00|2022-10-24 10:13:03|          5|       Coffee|  10|\n",
       "|2016-10-30 00:00:00|2022-10-24 10:13:03|          5|       Pastry|  10|\n",
       "|2016-10-30 00:00:00|2022-10-24 10:13:03|          5|        Bread|  10|\n",
       "|2016-10-30 00:00:00|2022-10-24 10:16:55|          6|    Medialuna|  10|\n",
       "|2016-10-30 00:00:00|2022-10-24 10:16:55|          6|       Pastry|  10|\n",
       "|2016-10-30 00:00:00|2022-10-24 10:16:55|          6|       Muffin|  10|\n",
       "|2016-10-30 00:00:00|2022-10-24 10:19:12|          7|    Medialuna|  10|\n",
       "|2016-10-30 00:00:00|2022-10-24 10:19:12|          7|       Pastry|  10|\n",
       "|2016-10-30 00:00:00|2022-10-24 10:19:12|          7|       Coffee|  10|\n",
       "|2016-10-30 00:00:00|2022-10-24 10:19:12|          7|          Tea|  10|\n",
       "|2016-10-30 00:00:00|2022-10-24 10:20:51|          8|       Pastry|  10|\n",
       "|2016-10-30 00:00:00|2022-10-24 10:20:51|          8|        Bread|  10|\n",
       "|2016-10-30 00:00:00|2022-10-24 10:21:59|          9|        Bread|  10|\n",
       "+-------------------+-------------------+-----------+-------------+----+\n",
       "only showing top 20 rows"
      ]
     },
     "execution_count": 51,
     "metadata": {},
     "output_type": "execute_result"
    }
   ],
   "source": [
    "BreadBasket_new"
   ]
  },
  {
   "cell_type": "code",
   "execution_count": 52,
   "id": "4dd6317a-ee64-4097-98d5-fe8272220857",
   "metadata": {},
   "outputs": [],
   "source": [
    "BreadBasket_new.registerTempTable(\"BreadBasket_new\")"
   ]
  },
  {
   "cell_type": "code",
   "execution_count": 53,
   "id": "5acfa3fd-05d2-419e-a723-67f80ac04770",
   "metadata": {},
   "outputs": [],
   "source": [
    "df_BreadBasket = spark.sql(\"select Item, Hour, count(*) as Total from BreadBasket_new where Item!='NONE' group by Item,Hour order by Hour\")\n"
   ]
  },
  {
   "cell_type": "code",
   "execution_count": 54,
   "id": "294d83ac-6f91-4201-af49-0a3e64748282",
   "metadata": {},
   "outputs": [
    {
     "name": "stdout",
     "output_type": "stream",
     "text": [
      "+---------+----+-----+\n",
      "|     Item|Hour|Total|\n",
      "+---------+----+-----+\n",
      "|    Bread|   1|    1|\n",
      "|   Coffee|   7|   13|\n",
      "|Medialuna|   7|    6|\n",
      "|    Toast|   7|    1|\n",
      "|    Bread|   7|    2|\n",
      "|   Pastry|   7|    2|\n",
      "|   Muesli|   8|    2|\n",
      "|    Toast|   8|   23|\n",
      "|Medialuna|   8|   43|\n",
      "| Panatone|   8|    1|\n",
      "+---------+----+-----+\n",
      "only showing top 10 rows\n",
      "\n"
     ]
    }
   ],
   "source": [
    "df_BreadBasket.show(10)"
   ]
  },
  {
   "cell_type": "code",
   "execution_count": 55,
   "id": "909e2fc0-159f-4921-955c-aab0da0c8964",
   "metadata": {},
   "outputs": [],
   "source": [
    "df_BreadBasket.registerTempTable(\"HourCount\")"
   ]
  },
  {
   "cell_type": "code",
   "execution_count": 56,
   "id": "f124e0d6-f97a-4178-a5da-1b8517cd4aac",
   "metadata": {},
   "outputs": [],
   "source": [
    "df_BreadBasket = spark.sql('select Item,Hour,Total,dense_rank() over(partition by Hour order by Total) as Rank from HourCount')"
   ]
  },
  {
   "cell_type": "code",
   "execution_count": 57,
   "id": "b569f73a-fe75-4ac8-ab0e-15b1cdc10b91",
   "metadata": {},
   "outputs": [],
   "source": [
    "df_BreadBasket_least_sold = df_BreadBasket.where('rank in (1,2)')"
   ]
  },
  {
   "cell_type": "code",
   "execution_count": 58,
   "id": "e60196c9-26a5-4735-a69c-4362af0c91bf",
   "metadata": {},
   "outputs": [],
   "source": [
    "df_BreadBasket_least_sold.registerTempTable(\"Least_sold_ascending_order\")"
   ]
  },
  {
   "cell_type": "markdown",
   "id": "cdc7dd44-1ce5-4b95-a0e8-0a3514eb5971",
   "metadata": {},
   "source": [
    "***Bottom 2 items sold every hour***"
   ]
  },
  {
   "cell_type": "code",
   "execution_count": 59,
   "id": "7f7afb5c-cbb7-4c3b-a5cc-2165c49e0973",
   "metadata": {},
   "outputs": [
    {
     "name": "stdout",
     "output_type": "stream",
     "text": [
      "+-----------------+----+-----+----+\n",
      "|             Item|Hour|Total|Rank|\n",
      "+-----------------+----+-----+----+\n",
      "|            Bread|   1|    1|   1|\n",
      "|            Toast|   7|    1|   1|\n",
      "|            Bread|   7|    2|   2|\n",
      "|           Pastry|   7|    2|   2|\n",
      "|         Panatone|   8|    1|   1|\n",
      "|Gingerbread syrup|   8|    1|   1|\n",
      "|             Eggs|   8|    1|   1|\n",
      "|           Tiffin|   8|    1|   1|\n",
      "|   Dulce de Leche|   8|    1|   1|\n",
      "|          Granola|   8|    1|   1|\n",
      "|         Truffles|   8|    1|   1|\n",
      "|        Nomad bag|   8|    1|   1|\n",
      "|             Coke|   8|    1|   1|\n",
      "|          Tartine|   8|    1|   1|\n",
      "|   Vegan mincepie|   8|    1|   1|\n",
      "|         Siblings|   8|    2|   2|\n",
      "|           Muesli|   8|    2|   2|\n",
      "|            Fudge|   8|    2|   2|\n",
      "|         Mortimer|   8|    2|   2|\n",
      "|         Bakewell|   8|    2|   2|\n",
      "+-----------------+----+-----+----+\n",
      "only showing top 20 rows\n",
      "\n"
     ]
    }
   ],
   "source": [
    "df_BreadBasket_least_sold.show()"
   ]
  },
  {
   "cell_type": "code",
   "execution_count": 60,
   "id": "4f2a14f2-85f7-468f-999d-d1aee9519e55",
   "metadata": {},
   "outputs": [],
   "source": [
    "df_BreadBasket = spark.sql('select Item,Hour,Total,dense_rank() over(partition by Hour order by Total desc) as Rank from HourCount')"
   ]
  },
  {
   "cell_type": "code",
   "execution_count": 61,
   "id": "7b7149b9-17d6-4991-8273-1b8dd069cf78",
   "metadata": {},
   "outputs": [],
   "source": [
    "df_BreadBasket_most_sold = df_BreadBasket.where('rank in (1,2)')"
   ]
  },
  {
   "cell_type": "markdown",
   "id": "f5c30ff7-9eb5-4fcf-8561-f8e9a3c0f22f",
   "metadata": {},
   "source": [
    "***Top 2 items sold every hour***"
   ]
  },
  {
   "cell_type": "code",
   "execution_count": 62,
   "id": "77adc33b-7211-444c-a234-902d023416d5",
   "metadata": {},
   "outputs": [
    {
     "name": "stdout",
     "output_type": "stream",
     "text": [
      "+---------+----+-----+----+\n",
      "|     Item|Hour|Total|Rank|\n",
      "+---------+----+-----+----+\n",
      "|    Bread|   1|    1|   1|\n",
      "|   Coffee|   7|   13|   1|\n",
      "|Medialuna|   7|    6|   2|\n",
      "|   Coffee|   8|  199|   1|\n",
      "|    Bread|   8|  171|   2|\n",
      "|   Coffee|   9|  583|   1|\n",
      "|    Bread|   9|  400|   2|\n",
      "|   Coffee|  10|  820|   1|\n",
      "|    Bread|  10|  508|   2|\n",
      "|   Coffee|  11|  946|   1|\n",
      "|    Bread|  11|  528|   2|\n",
      "|   Coffee|  12|  740|   1|\n",
      "|    Bread|  12|  474|   2|\n",
      "|   Coffee|  13|  607|   1|\n",
      "|    Bread|  13|  340|   2|\n",
      "|   Coffee|  14|  636|   1|\n",
      "|    Bread|  14|  341|   2|\n",
      "|   Coffee|  15|  519|   1|\n",
      "|    Bread|  15|  310|   2|\n",
      "|   Coffee|  16|  321|   1|\n",
      "+---------+----+-----+----+\n",
      "only showing top 20 rows\n",
      "\n"
     ]
    }
   ],
   "source": [
    "df_BreadBasket_most_sold.show()"
   ]
  }
 ],
 "metadata": {
  "kernelspec": {
   "display_name": "Python [conda env:bigdata-fall22]",
   "language": "python",
   "name": "conda-env-bigdata-fall22-py"
  },
  "language_info": {
   "codemirror_mode": {
    "name": "ipython",
    "version": 3
   },
   "file_extension": ".py",
   "mimetype": "text/x-python",
   "name": "python",
   "nbconvert_exporter": "python",
   "pygments_lexer": "ipython3",
   "version": "3.7.12"
  }
 },
 "nbformat": 4,
 "nbformat_minor": 5
}
